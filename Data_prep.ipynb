{
 "cells": [
  {
   "cell_type": "markdown",
   "metadata": {},
   "source": [
    "# Import Libraries"
   ]
  },
  {
   "cell_type": "code",
   "execution_count": 5,
   "metadata": {},
   "outputs": [],
   "source": [
    "#Basic tools\n",
    "import pandas as pd\n",
    "from datetime import datetime\n",
    "import numpy as np"
   ]
  },
  {
   "cell_type": "code",
   "execution_count": 6,
   "metadata": {},
   "outputs": [],
   "source": [
    "#train test split\n",
    "from sklearn.model_selection import train_test_split\n",
    "\n",
    "\n",
    "#function to get a mode of a dataset\n",
    "from statistics import mode\n",
    "#normalizing dataset\n",
    "from sklearn.preprocessing import StandardScaler\n",
    "\n",
    "#Visualization\n",
    "import matplotlib.pyplot as plt\n",
    "%matplotlib inline\n",
    "import seaborn as sns\n",
    "sns.set_style('darkgrid')\n",
    "\n",
    "#For resampling process to change the ratio of imbalanced ratio of the classes \n",
    "#testing various ratios\n",
    "from sklearn.metrics import roc_auc_score, roc_curve, auc\n",
    "from sklearn.linear_model import LogisticRegression\n",
    "#resampling\n",
    "from imblearn.over_sampling import SMOTE"
   ]
  },
  {
   "cell_type": "markdown",
   "metadata": {},
   "source": [
    "# Load Data"
   ]
  },
  {
   "cell_type": "code",
   "execution_count": 33,
   "metadata": {},
   "outputs": [],
   "source": [
    "train = pd.read_csv('train.csv')\n",
    "campaign = pd.read_csv('campaign_data.csv')\n",
    "coupon = pd.read_csv('coupon_item_mapping.csv')\n",
    "demog = pd.read_csv('customer_demographics.csv')\n",
    "transaction = pd.read_csv('customer_transaction_data.csv')\n",
    "item = pd.read_csv('item_data.csv')\n",
    "test = pd.read_csv('test.csv')"
   ]
  },
  {
   "cell_type": "code",
   "execution_count": 34,
   "metadata": {},
   "outputs": [],
   "source": [
    "#To update data and save them easily, a dictionary is created. \n",
    "tables ={}\n",
    "tables['train'] = train\n",
    "tables['campaign'] = campaign\n",
    "tables['coupon'] = coupon \n",
    "tables['demog'] = demog\n",
    "tables['transaction'] = transaction \n",
    "tables['item'] = item\n",
    "tables['test'] = test"
   ]
  },
  {
   "cell_type": "markdown",
   "metadata": {},
   "source": [
    "# Exploratory Data Analysis"
   ]
  },
  {
   "cell_type": "code",
   "execution_count": 9,
   "metadata": {},
   "outputs": [
    {
     "name": "stdout",
     "output_type": "stream",
     "text": [
      "<class 'pandas.core.frame.DataFrame'>\n",
      "RangeIndex: 78369 entries, 0 to 78368\n",
      "Data columns (total 5 columns):\n",
      " #   Column             Non-Null Count  Dtype\n",
      "---  ------             --------------  -----\n",
      " 0   id                 78369 non-null  int64\n",
      " 1   campaign_id        78369 non-null  int64\n",
      " 2   coupon_id          78369 non-null  int64\n",
      " 3   customer_id        78369 non-null  int64\n",
      " 4   redemption_status  78369 non-null  int64\n",
      "dtypes: int64(5)\n",
      "memory usage: 3.0 MB\n"
     ]
    }
   ],
   "source": [
    "train.info()"
   ]
  },
  {
   "cell_type": "code",
   "execution_count": 12,
   "metadata": {},
   "outputs": [
    {
     "data": {
      "text/plain": [
       "18"
      ]
     },
     "execution_count": 12,
     "metadata": {},
     "output_type": "execute_result"
    }
   ],
   "source": [
    "len(train.campaign_id.unique())"
   ]
  },
  {
   "cell_type": "code",
   "execution_count": 13,
   "metadata": {},
   "outputs": [
    {
     "data": {
      "text/plain": [
       "redemption_status\n",
       "0    77640\n",
       "1      729\n",
       "Name: count, dtype: int64"
      ]
     },
     "execution_count": 13,
     "metadata": {},
     "output_type": "execute_result"
    }
   ],
   "source": [
    "train.redemption_status.value_counts()"
   ]
  },
  {
   "cell_type": "code",
   "execution_count": 14,
   "metadata": {},
   "outputs": [
    {
     "data": {
      "text/plain": [
       "0.930214753282548"
      ]
     },
     "execution_count": 14,
     "metadata": {},
     "output_type": "execute_result"
    }
   ],
   "source": [
    "729/(77640+729)*100"
   ]
  },
  {
   "cell_type": "markdown",
   "metadata": {},
   "source": [
    "Does each campaign have distinct set of coupons or do coupons overlap in different campaigns?"
   ]
  },
  {
   "cell_type": "code",
   "execution_count": 15,
   "metadata": {},
   "outputs": [],
   "source": [
    "coupon_uses ={}\n",
    "for cp in train.coupon_id.unique():\n",
    "    # key = number of campaigns that use the coupon\n",
    "    key = len(train[train.coupon_id==cp].campaign_id.unique())\n",
    "    if key in coupon_uses.keys():\n",
    "        #collect coupon ids that were used key times\n",
    "        coupon_uses[key].append(cp)\n",
    "    else:\n",
    "        coupon_uses[key] = [cp]"
   ]
  },
  {
   "cell_type": "code",
   "execution_count": 16,
   "metadata": {},
   "outputs": [
    {
     "data": {
      "image/png": "[encoded data removed]",
      "text/plain": [
       "<Figure size 640x480 with 1 Axes>"
      ]
     },
     "metadata": {},
     "output_type": "display_data"
    }
   ],
   "source": [
    "\n",
    "coupon_freq ={}\n",
    "#coupon_freq \n",
    "#keys: the number of uses of coupons\n",
    "#values:number of coupons \n",
    "for key in coupon_uses.keys():\n",
    "    coupon_freq[key]= len(coupon_uses[key])/len(train.coupon_id.unique())*100\n",
    "\n",
    "plt.bar(coupon_freq.keys(),coupon_freq.values())\n",
    "\n",
    "# Text on the top of each barplot\n",
    "label = [len(x) for x in coupon_uses.values()]\n",
    "x_loc = np.array([x for x in coupon_freq.keys()])-0.2\n",
    "y_loc = np.array([x for x in coupon_freq.values()]) + 0.1\n",
    "for i in range(5):\n",
    "    plt.text(x = x_loc[i] , y = y_loc[i], s = label[i], size = 10)\n",
    "plt.title('The number of campagians that each coupon was used'.title())\n",
    "plt.ylabel('% of total coupons(coupon counts on each bar)'.title())\n",
    "plt.xlabel('number of campaigns'.title())\n",
    "plt.show()"
   ]
  },
  {
   "cell_type": "markdown",
   "metadata": {},
   "source": [
    "The answer is No... But most of coupons used only once for a particular campaign."
   ]
  },
  {
   "cell_type": "markdown",
   "metadata": {},
   "source": [
    "# Campaign Data Table"
   ]
  },
  {
   "cell_type": "code",
   "execution_count": 17,
   "metadata": {},
   "outputs": [
    {
     "data": {
      "text/plain": [
       "campaign_type\n",
       "Y    22\n",
       "X     6\n",
       "Name: count, dtype: int64"
      ]
     },
     "execution_count": 17,
     "metadata": {},
     "output_type": "execute_result"
    }
   ],
   "source": [
    "\n",
    "campaign.campaign_type.value_counts()"
   ]
  },
  {
   "cell_type": "code",
   "execution_count": 18,
   "metadata": {},
   "outputs": [
    {
     "name": "stdout",
     "output_type": "stream",
     "text": [
      "<class 'pandas.core.frame.DataFrame'>\n",
      "RangeIndex: 28 entries, 0 to 27\n",
      "Data columns (total 4 columns):\n",
      " #   Column         Non-Null Count  Dtype \n",
      "---  ------         --------------  ----- \n",
      " 0   campaign_id    28 non-null     int64 \n",
      " 1   campaign_type  28 non-null     object\n",
      " 2   start_date     28 non-null     object\n",
      " 3   end_date       28 non-null     object\n",
      "dtypes: int64(1), object(3)\n",
      "memory usage: 1.0+ KB\n"
     ]
    }
   ],
   "source": [
    "campaign.info()"
   ]
  },
  {
   "cell_type": "code",
   "execution_count": 19,
   "metadata": {},
   "outputs": [
    {
     "data": {
      "text/plain": [
       "28"
      ]
     },
     "execution_count": 19,
     "metadata": {},
     "output_type": "execute_result"
    }
   ],
   "source": [
    "len(campaign.campaign_id.unique())"
   ]
  },
  {
   "cell_type": "code",
   "execution_count": 20,
   "metadata": {},
   "outputs": [
    {
     "name": "stdout",
     "output_type": "stream",
     "text": [
      "<class 'pandas.core.frame.DataFrame'>\n",
      "RangeIndex: 92663 entries, 0 to 92662\n",
      "Data columns (total 2 columns):\n",
      " #   Column     Non-Null Count  Dtype\n",
      "---  ------     --------------  -----\n",
      " 0   coupon_id  92663 non-null  int64\n",
      " 1   item_id    92663 non-null  int64\n",
      "dtypes: int64(2)\n",
      "memory usage: 1.4 MB\n"
     ]
    }
   ],
   "source": [
    "coupon.info()"
   ]
  },
  {
   "cell_type": "markdown",
   "metadata": {},
   "source": [
    "# Coupon Item Mapping Table"
   ]
  },
  {
   "cell_type": "code",
   "execution_count": 21,
   "metadata": {},
   "outputs": [
    {
     "name": "stdout",
     "output_type": "stream",
     "text": [
      "<class 'pandas.core.frame.DataFrame'>\n",
      "RangeIndex: 92663 entries, 0 to 92662\n",
      "Data columns (total 2 columns):\n",
      " #   Column     Non-Null Count  Dtype\n",
      "---  ------     --------------  -----\n",
      " 0   coupon_id  92663 non-null  int64\n",
      " 1   item_id    92663 non-null  int64\n",
      "dtypes: int64(2)\n",
      "memory usage: 1.4 MB\n"
     ]
    }
   ],
   "source": [
    "\n",
    "coupon.info()"
   ]
  },
  {
   "cell_type": "code",
   "execution_count": 22,
   "metadata": {},
   "outputs": [
    {
     "data": {
      "text/plain": [
       "coupon_id\n",
       "32      11814\n",
       "23      11813\n",
       "22       4947\n",
       "31       4873\n",
       "33       4394\n",
       "        ...  \n",
       "1057        1\n",
       "54          1\n",
       "470         1\n",
       "48          1\n",
       "784         1\n",
       "Name: count, Length: 1116, dtype: int64"
      ]
     },
     "execution_count": 22,
     "metadata": {},
     "output_type": "execute_result"
    }
   ],
   "source": [
    "\n",
    "coupon.coupon_id.value_counts()"
   ]
  },
  {
   "cell_type": "code",
   "execution_count": 23,
   "metadata": {},
   "outputs": [
    {
     "data": {
      "text/plain": [
       "1116"
      ]
     },
     "execution_count": 23,
     "metadata": {},
     "output_type": "execute_result"
    }
   ],
   "source": [
    "len(coupon.coupon_id.unique())"
   ]
  },
  {
   "cell_type": "code",
   "execution_count": 24,
   "metadata": {},
   "outputs": [
    {
     "data": {
      "text/plain": [
       "36289"
      ]
     },
     "execution_count": 24,
     "metadata": {},
     "output_type": "execute_result"
    }
   ],
   "source": [
    "len(coupon.item_id.unique())"
   ]
  },
  {
   "cell_type": "markdown",
   "metadata": {},
   "source": [
    "# Customer Demographics"
   ]
  },
  {
   "cell_type": "code",
   "execution_count": 25,
   "metadata": {},
   "outputs": [
    {
     "name": "stdout",
     "output_type": "stream",
     "text": [
      "<class 'pandas.core.frame.DataFrame'>\n",
      "RangeIndex: 760 entries, 0 to 759\n",
      "Data columns (total 7 columns):\n",
      " #   Column          Non-Null Count  Dtype \n",
      "---  ------          --------------  ----- \n",
      " 0   customer_id     760 non-null    int64 \n",
      " 1   age_range       760 non-null    object\n",
      " 2   marital_status  431 non-null    object\n",
      " 3   rented          760 non-null    int64 \n",
      " 4   family_size     760 non-null    object\n",
      " 5   no_of_children  222 non-null    object\n",
      " 6   income_bracket  760 non-null    int64 \n",
      "dtypes: int64(3), object(4)\n",
      "memory usage: 41.7+ KB\n"
     ]
    }
   ],
   "source": [
    "demog.info()"
   ]
  },
  {
   "cell_type": "code",
   "execution_count": 26,
   "metadata": {},
   "outputs": [
    {
     "data": {
      "text/html": [
       "<div>\n",
       "<style scoped>\n",
       "    .dataframe tbody tr th:only-of-type {\n",
       "        vertical-align: middle;\n",
       "    }\n",
       "\n",
       "    .dataframe tbody tr th {\n",
       "        vertical-align: top;\n",
       "    }\n",
       "\n",
       "    .dataframe thead th {\n",
       "        text-align: right;\n",
       "    }\n",
       "</style>\n",
       "<table border=\"1\" class=\"dataframe\">\n",
       "  <thead>\n",
       "    <tr style=\"text-align: right;\">\n",
       "      <th></th>\n",
       "      <th>customer_id</th>\n",
       "      <th>age_range</th>\n",
       "      <th>marital_status</th>\n",
       "      <th>rented</th>\n",
       "      <th>family_size</th>\n",
       "      <th>no_of_children</th>\n",
       "      <th>income_bracket</th>\n",
       "    </tr>\n",
       "  </thead>\n",
       "  <tbody>\n",
       "    <tr>\n",
       "      <th>0</th>\n",
       "      <td>1</td>\n",
       "      <td>70+</td>\n",
       "      <td>Married</td>\n",
       "      <td>0</td>\n",
       "      <td>2</td>\n",
       "      <td>NaN</td>\n",
       "      <td>4</td>\n",
       "    </tr>\n",
       "    <tr>\n",
       "      <th>1</th>\n",
       "      <td>6</td>\n",
       "      <td>46-55</td>\n",
       "      <td>Married</td>\n",
       "      <td>0</td>\n",
       "      <td>2</td>\n",
       "      <td>NaN</td>\n",
       "      <td>5</td>\n",
       "    </tr>\n",
       "    <tr>\n",
       "      <th>2</th>\n",
       "      <td>7</td>\n",
       "      <td>26-35</td>\n",
       "      <td>NaN</td>\n",
       "      <td>0</td>\n",
       "      <td>3</td>\n",
       "      <td>1</td>\n",
       "      <td>3</td>\n",
       "    </tr>\n",
       "    <tr>\n",
       "      <th>3</th>\n",
       "      <td>8</td>\n",
       "      <td>26-35</td>\n",
       "      <td>NaN</td>\n",
       "      <td>0</td>\n",
       "      <td>4</td>\n",
       "      <td>2</td>\n",
       "      <td>6</td>\n",
       "    </tr>\n",
       "    <tr>\n",
       "      <th>4</th>\n",
       "      <td>10</td>\n",
       "      <td>46-55</td>\n",
       "      <td>Single</td>\n",
       "      <td>0</td>\n",
       "      <td>1</td>\n",
       "      <td>NaN</td>\n",
       "      <td>5</td>\n",
       "    </tr>\n",
       "  </tbody>\n",
       "</table>\n",
       "</div>"
      ],
      "text/plain": [
       "   customer_id age_range marital_status  rented family_size no_of_children  \\\n",
       "0            1       70+        Married       0           2            NaN   \n",
       "1            6     46-55        Married       0           2            NaN   \n",
       "2            7     26-35            NaN       0           3              1   \n",
       "3            8     26-35            NaN       0           4              2   \n",
       "4           10     46-55         Single       0           1            NaN   \n",
       "\n",
       "   income_bracket  \n",
       "0               4  \n",
       "1               5  \n",
       "2               3  \n",
       "3               6  \n",
       "4               5  "
      ]
     },
     "execution_count": 26,
     "metadata": {},
     "output_type": "execute_result"
    }
   ],
   "source": [
    "demog.head()"
   ]
  },
  {
   "cell_type": "code",
   "execution_count": 27,
   "metadata": {},
   "outputs": [
    {
     "data": {
      "text/plain": [
       "marital_status\n",
       "Married    317\n",
       "Single     114\n",
       "Name: count, dtype: int64"
      ]
     },
     "execution_count": 27,
     "metadata": {},
     "output_type": "execute_result"
    }
   ],
   "source": [
    "\n",
    "demog.marital_status.value_counts()\n"
   ]
  },
  {
   "cell_type": "markdown",
   "metadata": {},
   "source": [
    "# Customer Transaction Data"
   ]
  },
  {
   "cell_type": "code",
   "execution_count": 28,
   "metadata": {},
   "outputs": [
    {
     "name": "stdout",
     "output_type": "stream",
     "text": [
      "<class 'pandas.core.frame.DataFrame'>\n",
      "RangeIndex: 1324566 entries, 0 to 1324565\n",
      "Data columns (total 7 columns):\n",
      " #   Column           Non-Null Count    Dtype  \n",
      "---  ------           --------------    -----  \n",
      " 0   date             1324566 non-null  object \n",
      " 1   customer_id      1324566 non-null  int64  \n",
      " 2   item_id          1324566 non-null  int64  \n",
      " 3   quantity         1324566 non-null  int64  \n",
      " 4   selling_price    1324566 non-null  float64\n",
      " 5   other_discount   1324566 non-null  float64\n",
      " 6   coupon_discount  1324566 non-null  float64\n",
      "dtypes: float64(3), int64(3), object(1)\n",
      "memory usage: 70.7+ MB\n"
     ]
    }
   ],
   "source": [
    "\n",
    "transaction.info()"
   ]
  },
  {
   "cell_type": "code",
   "execution_count": 29,
   "metadata": {},
   "outputs": [
    {
     "data": {
      "text/html": [
       "<div>\n",
       "<style scoped>\n",
       "    .dataframe tbody tr th:only-of-type {\n",
       "        vertical-align: middle;\n",
       "    }\n",
       "\n",
       "    .dataframe tbody tr th {\n",
       "        vertical-align: top;\n",
       "    }\n",
       "\n",
       "    .dataframe thead th {\n",
       "        text-align: right;\n",
       "    }\n",
       "</style>\n",
       "<table border=\"1\" class=\"dataframe\">\n",
       "  <thead>\n",
       "    <tr style=\"text-align: right;\">\n",
       "      <th></th>\n",
       "      <th>date</th>\n",
       "      <th>customer_id</th>\n",
       "      <th>item_id</th>\n",
       "      <th>quantity</th>\n",
       "      <th>selling_price</th>\n",
       "      <th>other_discount</th>\n",
       "      <th>coupon_discount</th>\n",
       "    </tr>\n",
       "  </thead>\n",
       "  <tbody>\n",
       "    <tr>\n",
       "      <th>0</th>\n",
       "      <td>2012-01-02</td>\n",
       "      <td>1501</td>\n",
       "      <td>26830</td>\n",
       "      <td>1</td>\n",
       "      <td>35.26</td>\n",
       "      <td>-10.69</td>\n",
       "      <td>0.0</td>\n",
       "    </tr>\n",
       "    <tr>\n",
       "      <th>1</th>\n",
       "      <td>2012-01-02</td>\n",
       "      <td>1501</td>\n",
       "      <td>54253</td>\n",
       "      <td>1</td>\n",
       "      <td>53.43</td>\n",
       "      <td>-13.89</td>\n",
       "      <td>0.0</td>\n",
       "    </tr>\n",
       "    <tr>\n",
       "      <th>2</th>\n",
       "      <td>2012-01-02</td>\n",
       "      <td>1501</td>\n",
       "      <td>31962</td>\n",
       "      <td>1</td>\n",
       "      <td>106.50</td>\n",
       "      <td>-14.25</td>\n",
       "      <td>0.0</td>\n",
       "    </tr>\n",
       "    <tr>\n",
       "      <th>3</th>\n",
       "      <td>2012-01-02</td>\n",
       "      <td>1501</td>\n",
       "      <td>33647</td>\n",
       "      <td>1</td>\n",
       "      <td>67.32</td>\n",
       "      <td>0.00</td>\n",
       "      <td>0.0</td>\n",
       "    </tr>\n",
       "    <tr>\n",
       "      <th>4</th>\n",
       "      <td>2012-01-02</td>\n",
       "      <td>1501</td>\n",
       "      <td>48199</td>\n",
       "      <td>1</td>\n",
       "      <td>71.24</td>\n",
       "      <td>-28.14</td>\n",
       "      <td>0.0</td>\n",
       "    </tr>\n",
       "  </tbody>\n",
       "</table>\n",
       "</div>"
      ],
      "text/plain": [
       "         date  customer_id  item_id  quantity  selling_price  other_discount  \\\n",
       "0  2012-01-02         1501    26830         1          35.26          -10.69   \n",
       "1  2012-01-02         1501    54253         1          53.43          -13.89   \n",
       "2  2012-01-02         1501    31962         1         106.50          -14.25   \n",
       "3  2012-01-02         1501    33647         1          67.32            0.00   \n",
       "4  2012-01-02         1501    48199         1          71.24          -28.14   \n",
       "\n",
       "   coupon_discount  \n",
       "0              0.0  \n",
       "1              0.0  \n",
       "2              0.0  \n",
       "3              0.0  \n",
       "4              0.0  "
      ]
     },
     "execution_count": 29,
     "metadata": {},
     "output_type": "execute_result"
    }
   ],
   "source": [
    "transaction.head()"
   ]
  },
  {
   "cell_type": "code",
   "execution_count": 30,
   "metadata": {},
   "outputs": [
    {
     "data": {
      "text/plain": [
       "21286"
      ]
     },
     "execution_count": 30,
     "metadata": {},
     "output_type": "execute_result"
    }
   ],
   "source": [
    "len(transaction[transaction.coupon_discount<0])\n"
   ]
  },
  {
   "cell_type": "code",
   "execution_count": 31,
   "metadata": {},
   "outputs": [
    {
     "data": {
      "text/plain": [
       "0.01633263765269167"
      ]
     },
     "execution_count": 31,
     "metadata": {},
     "output_type": "execute_result"
    }
   ],
   "source": [
    "\n",
    "21286/1303280"
   ]
  },
  {
   "cell_type": "markdown",
   "metadata": {},
   "source": [
    "There are 1.6% of transactions that received coupon discounts."
   ]
  },
  {
   "cell_type": "code",
   "execution_count": 35,
   "metadata": {},
   "outputs": [
    {
     "data": {
      "text/plain": [
       "-1195971"
      ]
     },
     "execution_count": 35,
     "metadata": {},
     "output_type": "execute_result"
    }
   ],
   "source": [
    "len(train)+len(test)-len(transaction)"
   ]
  },
  {
   "cell_type": "markdown",
   "metadata": {},
   "source": [
    "The transaction has more data than both Train and Test data combined.\n",
    "\n",
    "From below, the transaction history intersect some of the campaigns that we are dealing with."
   ]
  },
  {
   "cell_type": "code",
   "execution_count": 36,
   "metadata": {},
   "outputs": [
    {
     "data": {
      "text/html": [
       "<div>\n",
       "<style scoped>\n",
       "    .dataframe tbody tr th:only-of-type {\n",
       "        vertical-align: middle;\n",
       "    }\n",
       "\n",
       "    .dataframe tbody tr th {\n",
       "        vertical-align: top;\n",
       "    }\n",
       "\n",
       "    .dataframe thead th {\n",
       "        text-align: right;\n",
       "    }\n",
       "</style>\n",
       "<table border=\"1\" class=\"dataframe\">\n",
       "  <thead>\n",
       "    <tr style=\"text-align: right;\">\n",
       "      <th></th>\n",
       "      <th>date</th>\n",
       "      <th>customer_id</th>\n",
       "      <th>item_id</th>\n",
       "      <th>quantity</th>\n",
       "      <th>selling_price</th>\n",
       "      <th>other_discount</th>\n",
       "      <th>coupon_discount</th>\n",
       "    </tr>\n",
       "  </thead>\n",
       "  <tbody>\n",
       "    <tr>\n",
       "      <th>1322975</th>\n",
       "      <td>2013-07-03</td>\n",
       "      <td>110</td>\n",
       "      <td>25377</td>\n",
       "      <td>2</td>\n",
       "      <td>47.02</td>\n",
       "      <td>0.00</td>\n",
       "      <td>0.0</td>\n",
       "    </tr>\n",
       "    <tr>\n",
       "      <th>1323125</th>\n",
       "      <td>2013-07-03</td>\n",
       "      <td>208</td>\n",
       "      <td>30932</td>\n",
       "      <td>1</td>\n",
       "      <td>106.50</td>\n",
       "      <td>0.00</td>\n",
       "      <td>0.0</td>\n",
       "    </tr>\n",
       "    <tr>\n",
       "      <th>1323111</th>\n",
       "      <td>2013-07-03</td>\n",
       "      <td>208</td>\n",
       "      <td>11332</td>\n",
       "      <td>1</td>\n",
       "      <td>142.12</td>\n",
       "      <td>0.00</td>\n",
       "      <td>0.0</td>\n",
       "    </tr>\n",
       "    <tr>\n",
       "      <th>1323112</th>\n",
       "      <td>2013-07-03</td>\n",
       "      <td>208</td>\n",
       "      <td>13212</td>\n",
       "      <td>1</td>\n",
       "      <td>120.75</td>\n",
       "      <td>0.00</td>\n",
       "      <td>0.0</td>\n",
       "    </tr>\n",
       "    <tr>\n",
       "      <th>1323113</th>\n",
       "      <td>2013-07-03</td>\n",
       "      <td>208</td>\n",
       "      <td>14759</td>\n",
       "      <td>1</td>\n",
       "      <td>89.05</td>\n",
       "      <td>-6.77</td>\n",
       "      <td>0.0</td>\n",
       "    </tr>\n",
       "  </tbody>\n",
       "</table>\n",
       "</div>"
      ],
      "text/plain": [
       "               date  customer_id  item_id  quantity  selling_price  \\\n",
       "1322975  2013-07-03          110    25377         2          47.02   \n",
       "1323125  2013-07-03          208    30932         1         106.50   \n",
       "1323111  2013-07-03          208    11332         1         142.12   \n",
       "1323112  2013-07-03          208    13212         1         120.75   \n",
       "1323113  2013-07-03          208    14759         1          89.05   \n",
       "\n",
       "         other_discount  coupon_discount  \n",
       "1322975            0.00              0.0  \n",
       "1323125            0.00              0.0  \n",
       "1323111            0.00              0.0  \n",
       "1323112            0.00              0.0  \n",
       "1323113           -6.77              0.0  "
      ]
     },
     "execution_count": 36,
     "metadata": {},
     "output_type": "execute_result"
    }
   ],
   "source": [
    "transaction.sort_values('date',ascending=False)[:5]\n"
   ]
  },
  {
   "cell_type": "code",
   "execution_count": 37,
   "metadata": {},
   "outputs": [
    {
     "data": {
      "text/html": [
       "<div>\n",
       "<style scoped>\n",
       "    .dataframe tbody tr th:only-of-type {\n",
       "        vertical-align: middle;\n",
       "    }\n",
       "\n",
       "    .dataframe tbody tr th {\n",
       "        vertical-align: top;\n",
       "    }\n",
       "\n",
       "    .dataframe thead th {\n",
       "        text-align: right;\n",
       "    }\n",
       "</style>\n",
       "<table border=\"1\" class=\"dataframe\">\n",
       "  <thead>\n",
       "    <tr style=\"text-align: right;\">\n",
       "      <th></th>\n",
       "      <th>campaign_id</th>\n",
       "      <th>campaign_type</th>\n",
       "      <th>start_date</th>\n",
       "      <th>end_date</th>\n",
       "    </tr>\n",
       "  </thead>\n",
       "  <tbody>\n",
       "    <tr>\n",
       "      <th>24</th>\n",
       "      <td>29</td>\n",
       "      <td>Y</td>\n",
       "      <td>08/10/12</td>\n",
       "      <td>30/11/12</td>\n",
       "    </tr>\n",
       "    <tr>\n",
       "      <th>8</th>\n",
       "      <td>17</td>\n",
       "      <td>Y</td>\n",
       "      <td>29/07/13</td>\n",
       "      <td>30/08/13</td>\n",
       "    </tr>\n",
       "    <tr>\n",
       "      <th>26</th>\n",
       "      <td>27</td>\n",
       "      <td>Y</td>\n",
       "      <td>25/08/12</td>\n",
       "      <td>27/10/12</td>\n",
       "    </tr>\n",
       "    <tr>\n",
       "      <th>7</th>\n",
       "      <td>19</td>\n",
       "      <td>Y</td>\n",
       "      <td>26/08/13</td>\n",
       "      <td>27/09/13</td>\n",
       "    </tr>\n",
       "    <tr>\n",
       "      <th>12</th>\n",
       "      <td>12</td>\n",
       "      <td>Y</td>\n",
       "      <td>22/04/13</td>\n",
       "      <td>24/05/13</td>\n",
       "    </tr>\n",
       "    <tr>\n",
       "      <th>1</th>\n",
       "      <td>25</td>\n",
       "      <td>Y</td>\n",
       "      <td>21/10/13</td>\n",
       "      <td>22/11/13</td>\n",
       "    </tr>\n",
       "    <tr>\n",
       "      <th>27</th>\n",
       "      <td>26</td>\n",
       "      <td>X</td>\n",
       "      <td>12/08/12</td>\n",
       "      <td>21/09/12</td>\n",
       "    </tr>\n",
       "    <tr>\n",
       "      <th>0</th>\n",
       "      <td>24</td>\n",
       "      <td>Y</td>\n",
       "      <td>21/10/13</td>\n",
       "      <td>20/12/13</td>\n",
       "    </tr>\n",
       "    <tr>\n",
       "      <th>5</th>\n",
       "      <td>22</td>\n",
       "      <td>X</td>\n",
       "      <td>16/09/13</td>\n",
       "      <td>18/10/13</td>\n",
       "    </tr>\n",
       "    <tr>\n",
       "      <th>4</th>\n",
       "      <td>21</td>\n",
       "      <td>Y</td>\n",
       "      <td>16/09/13</td>\n",
       "      <td>18/10/13</td>\n",
       "    </tr>\n",
       "    <tr>\n",
       "      <th>22</th>\n",
       "      <td>2</td>\n",
       "      <td>Y</td>\n",
       "      <td>17/12/12</td>\n",
       "      <td>18/01/13</td>\n",
       "    </tr>\n",
       "    <tr>\n",
       "      <th>21</th>\n",
       "      <td>1</td>\n",
       "      <td>Y</td>\n",
       "      <td>12/12/12</td>\n",
       "      <td>18/01/13</td>\n",
       "    </tr>\n",
       "    <tr>\n",
       "      <th>2</th>\n",
       "      <td>20</td>\n",
       "      <td>Y</td>\n",
       "      <td>07/09/13</td>\n",
       "      <td>16/11/13</td>\n",
       "    </tr>\n",
       "    <tr>\n",
       "      <th>25</th>\n",
       "      <td>28</td>\n",
       "      <td>Y</td>\n",
       "      <td>16/09/12</td>\n",
       "      <td>16/11/12</td>\n",
       "    </tr>\n",
       "    <tr>\n",
       "      <th>9</th>\n",
       "      <td>16</td>\n",
       "      <td>Y</td>\n",
       "      <td>15/07/13</td>\n",
       "      <td>16/08/13</td>\n",
       "    </tr>\n",
       "    <tr>\n",
       "      <th>18</th>\n",
       "      <td>3</td>\n",
       "      <td>Y</td>\n",
       "      <td>22/12/12</td>\n",
       "      <td>16/02/13</td>\n",
       "    </tr>\n",
       "    <tr>\n",
       "      <th>3</th>\n",
       "      <td>23</td>\n",
       "      <td>Y</td>\n",
       "      <td>08/10/13</td>\n",
       "      <td>15/11/13</td>\n",
       "    </tr>\n",
       "    <tr>\n",
       "      <th>19</th>\n",
       "      <td>5</td>\n",
       "      <td>Y</td>\n",
       "      <td>12/01/13</td>\n",
       "      <td>15/02/13</td>\n",
       "    </tr>\n",
       "    <tr>\n",
       "      <th>14</th>\n",
       "      <td>9</td>\n",
       "      <td>Y</td>\n",
       "      <td>11/03/13</td>\n",
       "      <td>12/04/13</td>\n",
       "    </tr>\n",
       "    <tr>\n",
       "      <th>13</th>\n",
       "      <td>10</td>\n",
       "      <td>Y</td>\n",
       "      <td>08/04/13</td>\n",
       "      <td>10/05/13</td>\n",
       "    </tr>\n",
       "    <tr>\n",
       "      <th>16</th>\n",
       "      <td>7</td>\n",
       "      <td>Y</td>\n",
       "      <td>02/02/13</td>\n",
       "      <td>08/03/13</td>\n",
       "    </tr>\n",
       "    <tr>\n",
       "      <th>20</th>\n",
       "      <td>4</td>\n",
       "      <td>Y</td>\n",
       "      <td>07/01/13</td>\n",
       "      <td>08/02/13</td>\n",
       "    </tr>\n",
       "    <tr>\n",
       "      <th>11</th>\n",
       "      <td>11</td>\n",
       "      <td>Y</td>\n",
       "      <td>22/04/13</td>\n",
       "      <td>07/06/13</td>\n",
       "    </tr>\n",
       "    <tr>\n",
       "      <th>10</th>\n",
       "      <td>13</td>\n",
       "      <td>X</td>\n",
       "      <td>19/05/13</td>\n",
       "      <td>05/07/13</td>\n",
       "    </tr>\n",
       "    <tr>\n",
       "      <th>15</th>\n",
       "      <td>8</td>\n",
       "      <td>X</td>\n",
       "      <td>16/02/13</td>\n",
       "      <td>05/04/13</td>\n",
       "    </tr>\n",
       "    <tr>\n",
       "      <th>6</th>\n",
       "      <td>18</td>\n",
       "      <td>X</td>\n",
       "      <td>10/08/13</td>\n",
       "      <td>04/10/13</td>\n",
       "    </tr>\n",
       "    <tr>\n",
       "      <th>23</th>\n",
       "      <td>30</td>\n",
       "      <td>X</td>\n",
       "      <td>19/11/12</td>\n",
       "      <td>04/01/13</td>\n",
       "    </tr>\n",
       "    <tr>\n",
       "      <th>17</th>\n",
       "      <td>6</td>\n",
       "      <td>Y</td>\n",
       "      <td>28/01/13</td>\n",
       "      <td>01/03/13</td>\n",
       "    </tr>\n",
       "  </tbody>\n",
       "</table>\n",
       "</div>"
      ],
      "text/plain": [
       "    campaign_id campaign_type start_date  end_date\n",
       "24           29             Y   08/10/12  30/11/12\n",
       "8            17             Y   29/07/13  30/08/13\n",
       "26           27             Y   25/08/12  27/10/12\n",
       "7            19             Y   26/08/13  27/09/13\n",
       "12           12             Y   22/04/13  24/05/13\n",
       "1            25             Y   21/10/13  22/11/13\n",
       "27           26             X   12/08/12  21/09/12\n",
       "0            24             Y   21/10/13  20/12/13\n",
       "5            22             X   16/09/13  18/10/13\n",
       "4            21             Y   16/09/13  18/10/13\n",
       "22            2             Y   17/12/12  18/01/13\n",
       "21            1             Y   12/12/12  18/01/13\n",
       "2            20             Y   07/09/13  16/11/13\n",
       "25           28             Y   16/09/12  16/11/12\n",
       "9            16             Y   15/07/13  16/08/13\n",
       "18            3             Y   22/12/12  16/02/13\n",
       "3            23             Y   08/10/13  15/11/13\n",
       "19            5             Y   12/01/13  15/02/13\n",
       "14            9             Y   11/03/13  12/04/13\n",
       "13           10             Y   08/04/13  10/05/13\n",
       "16            7             Y   02/02/13  08/03/13\n",
       "20            4             Y   07/01/13  08/02/13\n",
       "11           11             Y   22/04/13  07/06/13\n",
       "10           13             X   19/05/13  05/07/13\n",
       "15            8             X   16/02/13  05/04/13\n",
       "6            18             X   10/08/13  04/10/13\n",
       "23           30             X   19/11/12  04/01/13\n",
       "17            6             Y   28/01/13  01/03/13"
      ]
     },
     "execution_count": 37,
     "metadata": {},
     "output_type": "execute_result"
    }
   ],
   "source": [
    "campaign.sort_values('end_date',ascending=False)"
   ]
  },
  {
   "cell_type": "code",
   "execution_count": 38,
   "metadata": {},
   "outputs": [
    {
     "data": {
      "text/plain": [
       "array([    0.  ,   -35.62,   -14.25,   -26.71,   -21.02,   -19.59,\n",
       "         -80.14,   -17.81,    -8.9 ,  -102.94,   -71.24,   -21.37,\n",
       "         -10.69,   -12.47,  -178.1 ,  -106.86,   -53.43,   -35.26,\n",
       "         -12.11,  -213.72,   -56.64,   -28.14,   -44.52,  -569.92,\n",
       "         -53.07,   -62.33,   -49.87,   -37.4 ,   -24.93,   -32.06,\n",
       "        -213.36,  -355.84,  -142.12,   -17.45,   -39.18,   -40.96,\n",
       "        -142.48,  -109.71,    -7.12,   -88.69,  -427.44,   -45.95,\n",
       "         -89.05,   -16.03,  -113.63,  -106.5 ,   -70.53,   -31.35,\n",
       "         -58.77,  -117.55,   -60.2 ,   -78.36,  -128.23,   -23.51,\n",
       "         -79.79,   -28.5 ,   -92.26,  -177.74,   -47.73,  -554.96,\n",
       "         -27.07,    -5.34,  -498.32,   -90.83,  -108.64,   -95.11,\n",
       "        -319.87,   -30.28,  -284.6 ,   -70.88,  -124.67,  -152.81,\n",
       "         -60.55,  -356.2 ,   -91.9 ,  -512.57,  -113.27,  -184.16,\n",
       "        -117.19,  -160.29,  -184.87,  -249.34,   -55.21,   -95.82,\n",
       "         -42.74,  -195.55,   -97.96,   -94.39,   -23.15,   -27.78,\n",
       "        -110.42,   -42.39,  -127.88,   -30.63,  -277.48,   -69.1 ,\n",
       "         -78.01,  -199.12,  -248.98,   -23.87,   -43.46,   -89.41,\n",
       "         -64.12,  -211.23,   -38.47,   -41.32,  -169.91,  -111.85,\n",
       "         -48.09,   -82.64,  -284.96,  -177.39,  -134.64,   -47.37,\n",
       "         -46.31, -1068.24,   -63.76,  -320.22,  -103.3 ,   -49.51,\n",
       "        -120.75,   -67.32,   -59.49,  -334.12,   -38.83,  -234.38,\n",
       "        -509.01,   -42.03,  -641.16,  -712.4 ,  -102.59,  -266.79,\n",
       "        -135.  ,  -124.31,  -426.73,  -227.26,   -47.02,  -115.76,\n",
       "         -83.35,  -534.3 ,   -81.57,  -519.34,  -101.16,   -24.58,\n",
       "        -118.97,   -84.78,   -99.74,   -99.38,  -712.04,  -154.59,\n",
       "        -120.4 ,   -82.99,  -237.23,   -74.45,   -80.5 ,  -163.14,\n",
       "        -131.44,  -176.32,   -84.42,  -142.84,  -159.93,  -133.57,\n",
       "         -85.13,  -284.25,  -167.06,   -99.02,   -85.49, -1992.23,\n",
       "        -213.01,   -72.31,   -52.36,  -191.64,   -26.36,   -89.76,\n",
       "        -427.08,  -106.15,   -65.54,  -533.59,  -604.83,  -163.5 ,\n",
       "        -245.07,  -202.68,   -33.84,  -509.37,  -208.38,  -354.42,\n",
       "        -283.54,  -141.77,   -95.46,   -39.89,  -170.62,  -462.7 ,\n",
       "         -65.9 ,  -137.14,   -11.75,   -66.97,  -126.09,   -63.05,\n",
       "         -56.28,  -149.25,  -391.46,  -259.67,  -215.5 ,  -235.09,\n",
       "        -122.89,   -43.1 ,  -195.91,    -3.56,  -238.3 ,  -191.99,\n",
       "         -62.69, -1211.08,  -267.15,   -44.88,  -298.85,   -70.17,\n",
       "        -320.58,  -219.42,   -13.89,   -24.22,  -366.53,  -236.87,\n",
       "        -747.66,  -125.38,  -102.23,  -179.52,  -136.78,  -206.6 ,\n",
       "        -105.79,  -112.92,   -96.17,   -31.7 ])"
      ]
     },
     "execution_count": 38,
     "metadata": {},
     "output_type": "execute_result"
    }
   ],
   "source": [
    "transaction.coupon_discount.unique()"
   ]
  },
  {
   "cell_type": "markdown",
   "metadata": {},
   "source": [
    "# Item Data"
   ]
  },
  {
   "cell_type": "code",
   "execution_count": 39,
   "metadata": {},
   "outputs": [
    {
     "data": {
      "text/html": [
       "<div>\n",
       "<style scoped>\n",
       "    .dataframe tbody tr th:only-of-type {\n",
       "        vertical-align: middle;\n",
       "    }\n",
       "\n",
       "    .dataframe tbody tr th {\n",
       "        vertical-align: top;\n",
       "    }\n",
       "\n",
       "    .dataframe thead th {\n",
       "        text-align: right;\n",
       "    }\n",
       "</style>\n",
       "<table border=\"1\" class=\"dataframe\">\n",
       "  <thead>\n",
       "    <tr style=\"text-align: right;\">\n",
       "      <th></th>\n",
       "      <th>item_id</th>\n",
       "      <th>brand</th>\n",
       "      <th>brand_type</th>\n",
       "      <th>category</th>\n",
       "    </tr>\n",
       "  </thead>\n",
       "  <tbody>\n",
       "    <tr>\n",
       "      <th>0</th>\n",
       "      <td>1</td>\n",
       "      <td>1</td>\n",
       "      <td>Established</td>\n",
       "      <td>Grocery</td>\n",
       "    </tr>\n",
       "    <tr>\n",
       "      <th>1</th>\n",
       "      <td>2</td>\n",
       "      <td>1</td>\n",
       "      <td>Established</td>\n",
       "      <td>Miscellaneous</td>\n",
       "    </tr>\n",
       "    <tr>\n",
       "      <th>2</th>\n",
       "      <td>3</td>\n",
       "      <td>56</td>\n",
       "      <td>Local</td>\n",
       "      <td>Bakery</td>\n",
       "    </tr>\n",
       "    <tr>\n",
       "      <th>3</th>\n",
       "      <td>4</td>\n",
       "      <td>56</td>\n",
       "      <td>Local</td>\n",
       "      <td>Grocery</td>\n",
       "    </tr>\n",
       "    <tr>\n",
       "      <th>4</th>\n",
       "      <td>5</td>\n",
       "      <td>56</td>\n",
       "      <td>Local</td>\n",
       "      <td>Grocery</td>\n",
       "    </tr>\n",
       "  </tbody>\n",
       "</table>\n",
       "</div>"
      ],
      "text/plain": [
       "   item_id  brand   brand_type       category\n",
       "0        1      1  Established        Grocery\n",
       "1        2      1  Established  Miscellaneous\n",
       "2        3     56        Local         Bakery\n",
       "3        4     56        Local        Grocery\n",
       "4        5     56        Local        Grocery"
      ]
     },
     "execution_count": 39,
     "metadata": {},
     "output_type": "execute_result"
    }
   ],
   "source": [
    "item.head(5)"
   ]
  },
  {
   "cell_type": "code",
   "execution_count": 40,
   "metadata": {},
   "outputs": [
    {
     "data": {
      "text/plain": [
       "5528"
      ]
     },
     "execution_count": 40,
     "metadata": {},
     "output_type": "execute_result"
    }
   ],
   "source": [
    "len(item.brand.unique())"
   ]
  },
  {
   "cell_type": "code",
   "execution_count": 41,
   "metadata": {},
   "outputs": [
    {
     "name": "stdout",
     "output_type": "stream",
     "text": [
      "<class 'pandas.core.frame.DataFrame'>\n",
      "RangeIndex: 74066 entries, 0 to 74065\n",
      "Data columns (total 4 columns):\n",
      " #   Column      Non-Null Count  Dtype \n",
      "---  ------      --------------  ----- \n",
      " 0   item_id     74066 non-null  int64 \n",
      " 1   brand       74066 non-null  int64 \n",
      " 2   brand_type  74066 non-null  object\n",
      " 3   category    74066 non-null  object\n",
      "dtypes: int64(2), object(2)\n",
      "memory usage: 2.3+ MB\n"
     ]
    }
   ],
   "source": [
    "\n",
    "item.info()"
   ]
  },
  {
   "cell_type": "code",
   "execution_count": 42,
   "metadata": {},
   "outputs": [
    {
     "data": {
      "text/plain": [
       "category\n",
       "Grocery                   32448\n",
       "Pharmaceutical            24471\n",
       "Natural Products           2533\n",
       "Dairy, Juices & Snacks     2425\n",
       "Skin & Hair Care           2244\n",
       "Meat                       2080\n",
       "Packaged Meat              1966\n",
       "Prepared Food              1880\n",
       "Bakery                     1679\n",
       "Seafood                     728\n",
       "Flowers & Plants            664\n",
       "Miscellaneous               385\n",
       "Alcohol                     303\n",
       "Garden                      102\n",
       "Restauarant                  78\n",
       "Salads                       40\n",
       "Travel                       19\n",
       "Fuel                         14\n",
       "Vegetables (cut)              7\n",
       "Name: count, dtype: int64"
      ]
     },
     "execution_count": 42,
     "metadata": {},
     "output_type": "execute_result"
    }
   ],
   "source": [
    "\n",
    "item.category.value_counts()"
   ]
  },
  {
   "cell_type": "markdown",
   "metadata": {},
   "source": [
    "# Data Preparation"
   ]
  },
  {
   "cell_type": "code",
   "execution_count": null,
   "metadata": {},
   "outputs": [],
   "source": []
  }
 ],
 "metadata": {
  "kernelspec": {
   "display_name": "cpenv",
   "language": "python",
   "name": "python3"
  },
  "language_info": {
   "codemirror_mode": {
    "name": "ipython",
    "version": 3
   },
   "file_extension": ".py",
   "mimetype": "text/x-python",
   "name": "python",
   "nbconvert_exporter": "python",
   "pygments_lexer": "ipython3",
   "version": "3.12.8"
  }
 },
 "nbformat": 4,
 "nbformat_minor": 2
}
